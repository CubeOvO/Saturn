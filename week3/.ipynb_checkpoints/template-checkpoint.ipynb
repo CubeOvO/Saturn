{
 "cells": [
  {
   "cell_type": "code",
   "execution_count": 2,
   "metadata": {
    "collapsed": true
   },
   "outputs": [],
   "source": [
    "import pandas as pd\n",
    "import scipy as sp\n",
    "import matplotlib.pyplot as plt\n",
    "\n",
    "# show plots without need of calling `.show()`\n",
    "%matplotlib inline"
   ]
  },
  {
   "cell_type": "code",
   "execution_count": 47,
   "metadata": {},
   "outputs": [
    {
     "name": "stdout",
     "output_type": "stream",
     "text": [
      "      R    W+1    W+2   W+r   H+1   H+2   H+r\n",
      "0   5.5  117.5   30.2  3.89  19.3   9.9  1.98\n",
      "1   6.0  101.4   22.0  4.83  15.0   7.6  2.16\n",
      "2   6.5   81.9   17.5  5.23   8.2   3.8  2.17\n",
      "3   7.0  103.9   32.0  3.68  11.5   5.5  2.13\n",
      "4   7.5  166.9   60.1  2.78  21.3   7.2  2.97\n",
      "5   8.0  156.9   82.4  1.91  24.0   9.9  2.44\n",
      "6   8.5  180.1   94.4  1.93  27.9  13.1  2.19\n",
      "7   9.0  196.9  101.4  2.02  31.6  16.0  2.06\n",
      "8   9.5  225.9  122.4  1.86  42.5  22.2  2.02\n",
      "9  10.0  197.5   94.0  2.10  39.5  20.5  2.25\n"
     ]
    }
   ],
   "source": [
    "\n",
    "# import stuff\n",
    "\n",
    "# import solar temprature\n",
    "dftmp = pd.read_csv('temprature.csv')\n",
    "\n",
    "\n",
    "\n",
    "# import electron affinity (unit = eV)\n",
    "# c.f. https://en.wikipedia.org/wiki/Electron_affinity_(data_page)\n",
    "\n",
    "ea = {\n",
    "    'H':72.769,\n",
    "    'O':140.97,\n",
    "    'OH':176.341,\n",
    "    'O2':43.42,\n",
    "     }\n",
    "\n",
    "# import relative mass\n",
    "rm = {\n",
    "    'H':1,\n",
    "    'O':16, \n",
    "    'OH':17, \n",
    "    'H2O':18, \n",
    "    'H3O':19, \n",
    "    'O2':32,\n",
    "    }\n",
    "print(dftmp)"
   ]
  },
  {
   "cell_type": "code",
   "execution_count": 59,
   "metadata": {
    "scrolled": true
   },
   "outputs": [],
   "source": [
    "\n",
    "# define helper function\n",
    "\n",
    "# convert eV to K\n",
    "def eV2K(a):\n",
    "    return a*1.6*10**-19*2/(3*1.38*10**-23)\n",
    "\n",
    "# calcultate reduced mass\n",
    "def reduce(m1,m2):\n",
    "    return m1*m2/(m1+m2)\n",
    "# define cal reaction rate\n",
    "def rate_cal(cat,an,T):\n",
    "    return 3.2*10**-8*(eV2K(T)/300)**(-1.1)*reduce(rm[str(cat)],rm[str(an)])**(-0.01)*ea[str(an)]**(-0.04)"
   ]
  },
  {
   "cell_type": "code",
   "execution_count": 62,
   "metadata": {
    "scrolled": true
   },
   "outputs": [
    {
     "data": {
      "text/plain": [
       "2.9036488667640177e-11"
      ]
     },
     "execution_count": 62,
     "metadata": {},
     "output_type": "execute_result"
    }
   ],
   "source": [
    "'''\n",
    "method:  \n",
    "kMN = 3.2×10−8[cm3s−1]*(T[k]/300)^(−1.1)×μ[amu]^(−0.01)*Ea[eV]^(−0.04)\n",
    "for a diatomic anions, (approximate monotomic anions)\n",
    "\n",
    "avaliable cation (1st slot):\n",
    "    'H'\n",
    "    'O'\n",
    "    'OH' \n",
    "    'H2O'\n",
    "    'H3O'\n",
    "    'O2'\n",
    "\n",
    "avaliabe anion (2nd slot)\n",
    "    'H'\n",
    "    'O'\n",
    "    'OH'\n",
    "    'O2'\n",
    "    \n",
    "3rd slot - temprature in eV\n",
    "'''\n",
    "rate_cal('OH','O2',19.3)"
   ]
  },
  {
   "cell_type": "code",
   "execution_count": null,
   "metadata": {
    "collapsed": true
   },
   "outputs": [],
   "source": []
  }
 ],
 "metadata": {
  "kernelspec": {
   "display_name": "Python 3",
   "language": "python",
   "name": "python3"
  },
  "language_info": {
   "codemirror_mode": {
    "name": "ipython",
    "version": 3
   },
   "file_extension": ".py",
   "mimetype": "text/x-python",
   "name": "python",
   "nbconvert_exporter": "python",
   "pygments_lexer": "ipython3",
   "version": "3.6.1"
  }
 },
 "nbformat": 4,
 "nbformat_minor": 2
}
